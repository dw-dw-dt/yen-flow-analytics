{
 "cells": [
  {
   "cell_type": "code",
   "execution_count": 1,
   "metadata": {},
   "outputs": [
    {
     "name": "stdout",
     "output_type": "stream",
     "text": [
      "Selected: legacy_fut\n",
      "Downloaded single year data from: 2025\n",
      "Stored the file annual.txt in the working directory.\n",
      "レポートに含まれるカラム: ['Market and Exchange Names', 'As of Date in Form YYMMDD', 'As of Date in Form YYYY-MM-DD', 'CFTC Contract Market Code', 'CFTC Market Code in Initials', 'CFTC Region Code', 'CFTC Commodity Code', 'Open Interest (All)', 'Noncommercial Positions-Long (All)', 'Noncommercial Positions-Short (All)', 'Noncommercial Positions-Spreading (All)', 'Commercial Positions-Long (All)', 'Commercial Positions-Short (All)', ' Total Reportable Positions-Long (All)', 'Total Reportable Positions-Short (All)', 'Nonreportable Positions-Long (All)', 'Nonreportable Positions-Short (All)', 'Open Interest (Old)', 'Noncommercial Positions-Long (Old)', 'Noncommercial Positions-Short (Old)', 'Noncommercial Positions-Spreading (Old)', 'Commercial Positions-Long (Old)', 'Commercial Positions-Short (Old)', 'Total Reportable Positions-Long (Old)', 'Total Reportable Positions-Short (Old)', 'Nonreportable Positions-Long (Old)', 'Nonreportable Positions-Short (Old)', 'Open Interest (Other)', 'Noncommercial Positions-Long (Other)', 'Noncommercial Positions-Short (Other)', 'Noncommercial Positions-Spreading (Other)', 'Commercial Positions-Long (Other)', 'Commercial Positions-Short (Other)', 'Total Reportable Positions-Long (Other)', 'Total Reportable Positions-Short (Other)', 'Nonreportable Positions-Long (Other)', 'Nonreportable Positions-Short (Other)', 'Change in Open Interest (All)', 'Change in Noncommercial-Long (All)', 'Change in Noncommercial-Short (All)', 'Change in Noncommercial-Spreading (All)', 'Change in Commercial-Long (All)', 'Change in Commercial-Short (All)', 'Change in Total Reportable-Long (All)', 'Change in Total Reportable-Short (All)', 'Change in Nonreportable-Long (All)', 'Change in Nonreportable-Short (All)', '% of Open Interest (OI) (All)', '% of OI-Noncommercial-Long (All)', '% of OI-Noncommercial-Short (All)', '% of OI-Noncommercial-Spreading (All)', '% of OI-Commercial-Long (All)', '% of OI-Commercial-Short (All)', '% of OI-Total Reportable-Long (All)', '% of OI-Total Reportable-Short (All)', '% of OI-Nonreportable-Long (All)', '% of OI-Nonreportable-Short (All)', '% of Open Interest (OI)(Old)', '% of OI-Noncommercial-Long (Old)', '% of OI-Noncommercial-Short (Old)', '% of OI-Noncommercial-Spreading (Old)', '% of OI-Commercial-Long (Old)', '% of OI-Commercial-Short (Old)', '% of OI-Total Reportable-Long (Old)', '% of OI-Total Reportable-Short (Old)', '% of OI-Nonreportable-Long (Old)', '% of OI-Nonreportable-Short (Old)', '% of Open Interest (OI) (Other)', '% of OI-Noncommercial-Long (Other)', '% of OI-Noncommercial-Short (Other)', '% of OI-Noncommercial-Spreading (Other)', '% of OI-Commercial-Long (Other)', '% of OI-Commercial-Short (Other)', '% of OI-Total Reportable-Long (Other)', '% of OI-Total Reportable-Short (Other)', '% of OI-Nonreportable-Long (Other)', '% of OI-Nonreportable-Short (Other)', 'Traders-Total (All)', 'Traders-Noncommercial-Long (All)', 'Traders-Noncommercial-Short (All)', 'Traders-Noncommercial-Spreading (All)', 'Traders-Commercial-Long (All)', 'Traders-Commercial-Short (All)', 'Traders-Total Reportable-Long (All)', 'Traders-Total Reportable-Short (All)', 'Traders-Total (Old)', 'Traders-Noncommercial-Long (Old)', 'Traders-Noncommercial-Short (Old)', 'Traders-Noncommercial-Spreading (Old)', 'Traders-Commercial-Long (Old)', 'Traders-Commercial-Short (Old)', 'Traders-Total Reportable-Long (Old)', 'Traders-Total Reportable-Short (Old)', 'Traders-Total (Other)', 'Traders-Noncommercial-Long (Other)', 'Traders-Noncommercial-Short (Other)', 'Traders-Noncommercial-Spreading (Other)', 'Traders-Commercial-Long (Other)', 'Traders-Commercial-Short (Other)', 'Traders-Total Reportable-Long (Other)', 'Traders-Total Reportable-Short (Other)', 'Concentration-Gross LT = 4 TDR-Long (All)', 'Concentration-Gross LT =4 TDR-Short (All)', 'Concentration-Gross LT =8 TDR-Long (All)', 'Concentration-Gross LT =8 TDR-Short (All)', 'Concentration-Net LT =4 TDR-Long (All)', 'Concentration-Net LT =4 TDR-Short (All)', 'Concentration-Net LT =8 TDR-Long (All)', 'Concentration-Net LT =8 TDR-Short (All)', 'Concentration-Gross LT =4 TDR-Long (Old)', 'Concentration-Gross LT =4 TDR-Short (Old)', 'Concentration-Gross LT =8 TDR-Long (Old)', 'Concentration-Gross LT =8 TDR-Short (Old)', 'Concentration-Net LT =4 TDR-Long (Old)', 'Concentration-Net LT =4 TDR-Short (Old)', 'Concentration-Net LT =8 TDR-Long (Old)', 'Concentration-Net LT =8 TDR-Short (Old)', 'Concentration-Gross LT =4 TDR-Long (Other)', 'Concentration-Gross LT =4 TDR-Short(Other)', 'Concentration-Gross LT =8 TDR-Long (Other)', 'Concentration-Gross LT =8 TDR-Short(Other)', 'Concentration-Net LT =4 TDR-Long (Other)', 'Concentration-Net LT =4 TDR-Short (Other)', 'Concentration-Net LT =8 TDR-Long (Other)', 'Concentration-Net LT =8 TDR-Short (Other)', 'Contract Units', 'CFTC Contract Market Code (Quotes)', 'CFTC Market Code in Initials (Quotes)', 'CFTC Commodity Code (Quotes)']\n",
      "使用する日付カラムとして 'As of Date in Form YYMMDD' を選択しました。\n",
      "=== 円の需給データ ===\n",
      "日付: 250318\n",
      "\n",
      "【投機筋（Non-Commercial）】\n",
      "ロング: 164752\n",
      "ショート: 41788\n",
      "ネットポジション: 122964\n",
      "\n",
      "【商業筋（Commercial）】\n",
      "ロング: 80456\n",
      "ショート: 217232\n",
      "ネットポジション: -136776\n"
     ]
    }
   ],
   "source": [
    "import cot_reports as cot\n",
    "import pandas as pd\n",
    "\n",
    "# 2024年のCOTレポート全体を取得\n",
    "report = cot.cot_year(year=2025)\n",
    "\n",
    "# 取得できたカラム名を表示（デバッグ用）\n",
    "print(\"レポートに含まれるカラム:\", report.columns.tolist())\n",
    "\n",
    "# 'Report_Date_as_MM_DD_YYYY' が存在しない場合、日付を含むカラム名を候補から選択\n",
    "if 'Report_Date_as_MM_DD_YYYY' in report.columns:\n",
    "    date_col = 'Report_Date_as_MM_DD_YYYY'\n",
    "else:\n",
    "    # 小文字にして 'date' を含むカラムをリストアップ\n",
    "    date_candidates = [col for col in report.columns if 'date' in col.lower()]\n",
    "    if len(date_candidates) == 0:\n",
    "        raise KeyError(\"レポートに日付を表すカラムが見つかりませんでした。\")\n",
    "    else:\n",
    "        # 候補の最初のカラムを使用（必要に応じて適宜修正してください）\n",
    "        date_col = date_candidates[0]\n",
    "        print(f\"使用する日付カラムとして '{date_col}' を選択しました。\")\n",
    "\n",
    "# Japanese Yenのみ抽出\n",
    "yen_report = report[report['Market and Exchange Names'].str.contains('JAPANESE YEN')]\n",
    "\n",
    "# 最新週のデータを取得（日付カラムで降順ソート）\n",
    "latest_yen = yen_report.sort_values(date_col, ascending=False).iloc[0]\n",
    "\n",
    "# 投機筋（Non-Commercial）の需給データ\n",
    "nc_long = latest_yen.get('Noncommercial Positions-Long (All)', None)\n",
    "nc_short = latest_yen.get('Noncommercial Positions-Short (All)', None)\n",
    "nc_net = nc_long - nc_short if nc_long is not None and nc_short is not None else None\n",
    "\n",
    "# 商業筋（Commercial）の需給データ（存在する場合）\n",
    "c_long = latest_yen.get('Commercial Positions-Long (All)', None)\n",
    "c_short = latest_yen.get('Commercial Positions-Short (All)', None)\n",
    "c_net = c_long - c_short if c_long is not None and c_short is not None else None\n",
    "\n",
    "print(\"=== 円の需給データ ===\")\n",
    "print(f\"日付: {latest_yen[date_col]}\")\n",
    "print(\"\\n【投機筋（Non-Commercial）】\")\n",
    "print(f\"ロング: {nc_long}\")\n",
    "print(f\"ショート: {nc_short}\")\n",
    "print(f\"ネットポジション: {nc_net}\")\n",
    "\n",
    "if c_long is not None and c_short is not None:\n",
    "    print(\"\\n【商業筋（Commercial）】\")\n",
    "    print(f\"ロング: {c_long}\")\n",
    "    print(f\"ショート: {c_short}\")\n",
    "    print(f\"ネットポジション: {c_net}\")\n"
   ]
  }
 ],
 "metadata": {
  "kernelspec": {
   "display_name": ".venv",
   "language": "python",
   "name": "python3"
  },
  "language_info": {
   "codemirror_mode": {
    "name": "ipython",
    "version": 3
   },
   "file_extension": ".py",
   "mimetype": "text/x-python",
   "name": "python",
   "nbconvert_exporter": "python",
   "pygments_lexer": "ipython3",
   "version": "3.12.7"
  }
 },
 "nbformat": 4,
 "nbformat_minor": 2
}
